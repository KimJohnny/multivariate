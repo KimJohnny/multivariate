{
 "cells": [
  {
   "cell_type": "code",
   "execution_count": 1,
   "metadata": {},
   "outputs": [],
   "source": [
    "import pandas as pd\n",
    "import numpy as np\n",
    "from scipy.stats import probplot\n",
    "import matplotlib.pyplot as plt\n",
    "import seaborn as sns\n",
    "%matplotlib inline\n",
    "import numpy.linalg as lin\n",
    "import statsmodels.api as sm\n",
    "import statsmodels.formula.api as smf\n",
    "from sklearn import linear_model\n",
    "import statsmodels.api as sm"
   ]
  },
  {
   "cell_type": "markdown",
   "metadata": {},
   "source": [
    "#### Data Load"
   ]
  },
  {
   "cell_type": "code",
   "execution_count": 2,
   "metadata": {},
   "outputs": [],
   "source": [
    "data = pd.read_csv(\"C:/Users/johnny0614/OneDrive - unist.ac.kr/UNIST/19년 2학기/multivariate/inclass01.csv\")"
   ]
  },
  {
   "cell_type": "code",
   "execution_count": 3,
   "metadata": {},
   "outputs": [],
   "source": [
    "# data.head()\n",
    "# log10Y (DV): (Log-)Price of real estate per acre ($)\n",
    "# X1 (IV): County, {0 = San Mateo, 1 = Santa Clara}\n",
    "# X2 (IV): Size of property (acre)\n",
    "# X3 (IV): Elevation (altitude above sea level) (ft)\n",
    "# X4 (IV): Sewer (distance to the nearest sewer facility)\n",
    "# X5 (IV): Date of the past selling backward from current time (months)\n",
    "# X6 (IV): Flood possibility by tidal action (0 = not, 1 = possible)\n",
    "# X7 (IV): Distance to San Francisco (mile)"
   ]
  },
  {
   "cell_type": "code",
   "execution_count": 4,
   "metadata": {},
   "outputs": [],
   "source": [
    "y= data['y']"
   ]
  },
  {
   "cell_type": "code",
   "execution_count": 5,
   "metadata": {},
   "outputs": [],
   "source": [
    "dv = np.log(y)\n",
    "# dv.head()"
   ]
  },
  {
   "cell_type": "code",
   "execution_count": 6,
   "metadata": {},
   "outputs": [],
   "source": [
    "data['dv'] = dv"
   ]
  },
  {
   "cell_type": "code",
   "execution_count": 7,
   "metadata": {},
   "outputs": [],
   "source": [
    "#data.head()"
   ]
  },
  {
   "cell_type": "markdown",
   "metadata": {},
   "source": [
    "### Problem 1."
   ]
  },
  {
   "cell_type": "markdown",
   "metadata": {},
   "source": [
    "##### A. Using all IVs, find the regression model parameters, b0 ~ b7, using the least squares"
   ]
  },
  {
   "cell_type": "code",
   "execution_count": 8,
   "metadata": {},
   "outputs": [
    {
     "name": "stdout",
     "output_type": "stream",
     "text": [
      "Intercept: \n",
      " 3.098580168929617\n",
      "Coefficients: \n",
      " [-1.59625202e-01 -2.57777324e-04  5.05297926e-02 -8.33800503e-05\n",
      "  1.47884591e-02 -9.81901036e-01  4.88877898e-02]\n"
     ]
    }
   ],
   "source": [
    "m1_features = ['x1', 'x2', 'x3', 'x4', 'x5', 'x6', 'x7']\n",
    "m1_x_var = data[m1_features]\n",
    "m1_y_var = data['dv']\n",
    "\n",
    "m1 = linear_model.LinearRegression()\n",
    "m1.fit(m1_x_var, m1_y_var)\n",
    "\n",
    "print('Intercept: \\n',m1.intercept_)\n",
    "print('Coefficients: \\n',m1.coef_)"
   ]
  },
  {
   "cell_type": "markdown",
   "metadata": {},
   "source": [
    "##### B. Instead of using all IV’s, select a subset of them. Using the subset, build a regression model and find the parameters. Make your own criterion for selecting IV’s. "
   ]
  },
  {
   "cell_type": "code",
   "execution_count": 9,
   "metadata": {},
   "outputs": [
    {
     "data": {
      "text/html": [
       "<table class=\"simpletable\">\n",
       "<caption>OLS Regression Results</caption>\n",
       "<tr>\n",
       "  <th>Dep. Variable:</th>           <td>dv</td>        <th>  R-squared:         </th> <td>   0.842</td>\n",
       "</tr>\n",
       "<tr>\n",
       "  <th>Model:</th>                   <td>OLS</td>       <th>  Adj. R-squared:    </th> <td>   0.793</td>\n",
       "</tr>\n",
       "<tr>\n",
       "  <th>Method:</th>             <td>Least Squares</td>  <th>  F-statistic:       </th> <td>   17.46</td>\n",
       "</tr>\n",
       "<tr>\n",
       "  <th>Date:</th>             <td>Mon, 18 Nov 2019</td> <th>  Prob (F-statistic):</th> <td>8.11e-08</td>\n",
       "</tr>\n",
       "<tr>\n",
       "  <th>Time:</th>                 <td>22:21:12</td>     <th>  Log-Likelihood:    </th> <td> -4.5968</td>\n",
       "</tr>\n",
       "<tr>\n",
       "  <th>No. Observations:</th>      <td>    31</td>      <th>  AIC:               </th> <td>   25.19</td>\n",
       "</tr>\n",
       "<tr>\n",
       "  <th>Df Residuals:</th>          <td>    23</td>      <th>  BIC:               </th> <td>   36.67</td>\n",
       "</tr>\n",
       "<tr>\n",
       "  <th>Df Model:</th>              <td>     7</td>      <th>                     </th>     <td> </td>   \n",
       "</tr>\n",
       "<tr>\n",
       "  <th>Covariance Type:</th>      <td>nonrobust</td>    <th>                     </th>     <td> </td>   \n",
       "</tr>\n",
       "</table>\n",
       "<table class=\"simpletable\">\n",
       "<tr>\n",
       "      <td></td>         <th>coef</th>     <th>std err</th>      <th>t</th>      <th>P>|t|</th>  <th>[0.025</th>    <th>0.975]</th>  \n",
       "</tr>\n",
       "<tr>\n",
       "  <th>Intercept</th> <td>    3.0986</td> <td>    0.282</td> <td>   11.006</td> <td> 0.000</td> <td>    2.516</td> <td>    3.681</td>\n",
       "</tr>\n",
       "<tr>\n",
       "  <th>x1</th>        <td>   -0.1596</td> <td>    0.269</td> <td>   -0.594</td> <td> 0.558</td> <td>   -0.715</td> <td>    0.396</td>\n",
       "</tr>\n",
       "<tr>\n",
       "  <th>x2</th>        <td>   -0.0003</td> <td>    0.000</td> <td>   -1.002</td> <td> 0.327</td> <td>   -0.001</td> <td>    0.000</td>\n",
       "</tr>\n",
       "<tr>\n",
       "  <th>x3</th>        <td>    0.0505</td> <td>    0.018</td> <td>    2.880</td> <td> 0.008</td> <td>    0.014</td> <td>    0.087</td>\n",
       "</tr>\n",
       "<tr>\n",
       "  <th>x4</th>        <td>-8.338e-05</td> <td> 3.07e-05</td> <td>   -2.720</td> <td> 0.012</td> <td>   -0.000</td> <td>   -2e-05</td>\n",
       "</tr>\n",
       "<tr>\n",
       "  <th>x5</th>        <td>    0.0148</td> <td>    0.004</td> <td>    4.135</td> <td> 0.000</td> <td>    0.007</td> <td>    0.022</td>\n",
       "</tr>\n",
       "<tr>\n",
       "  <th>x6</th>        <td>   -0.9819</td> <td>    0.220</td> <td>   -4.468</td> <td> 0.000</td> <td>   -1.437</td> <td>   -0.527</td>\n",
       "</tr>\n",
       "<tr>\n",
       "  <th>x7</th>        <td>    0.0489</td> <td>    0.025</td> <td>    1.958</td> <td> 0.062</td> <td>   -0.003</td> <td>    0.101</td>\n",
       "</tr>\n",
       "</table>\n",
       "<table class=\"simpletable\">\n",
       "<tr>\n",
       "  <th>Omnibus:</th>       <td> 2.195</td> <th>  Durbin-Watson:     </th> <td>   2.410</td>\n",
       "</tr>\n",
       "<tr>\n",
       "  <th>Prob(Omnibus):</th> <td> 0.334</td> <th>  Jarque-Bera (JB):  </th> <td>   1.655</td>\n",
       "</tr>\n",
       "<tr>\n",
       "  <th>Skew:</th>          <td> 0.385</td> <th>  Prob(JB):          </th> <td>   0.437</td>\n",
       "</tr>\n",
       "<tr>\n",
       "  <th>Kurtosis:</th>      <td> 2.170</td> <th>  Cond. No.          </th> <td>1.96e+04</td>\n",
       "</tr>\n",
       "</table><br/><br/>Warnings:<br/>[1] Standard Errors assume that the covariance matrix of the errors is correctly specified.<br/>[2] The condition number is large, 1.96e+04. This might indicate that there are<br/>strong multicollinearity or other numerical problems."
      ],
      "text/plain": [
       "<class 'statsmodels.iolib.summary.Summary'>\n",
       "\"\"\"\n",
       "                            OLS Regression Results                            \n",
       "==============================================================================\n",
       "Dep. Variable:                     dv   R-squared:                       0.842\n",
       "Model:                            OLS   Adj. R-squared:                  0.793\n",
       "Method:                 Least Squares   F-statistic:                     17.46\n",
       "Date:                Mon, 18 Nov 2019   Prob (F-statistic):           8.11e-08\n",
       "Time:                        22:21:12   Log-Likelihood:                -4.5968\n",
       "No. Observations:                  31   AIC:                             25.19\n",
       "Df Residuals:                      23   BIC:                             36.67\n",
       "Df Model:                           7                                         \n",
       "Covariance Type:            nonrobust                                         \n",
       "==============================================================================\n",
       "                 coef    std err          t      P>|t|      [0.025      0.975]\n",
       "------------------------------------------------------------------------------\n",
       "Intercept      3.0986      0.282     11.006      0.000       2.516       3.681\n",
       "x1            -0.1596      0.269     -0.594      0.558      -0.715       0.396\n",
       "x2            -0.0003      0.000     -1.002      0.327      -0.001       0.000\n",
       "x3             0.0505      0.018      2.880      0.008       0.014       0.087\n",
       "x4         -8.338e-05   3.07e-05     -2.720      0.012      -0.000      -2e-05\n",
       "x5             0.0148      0.004      4.135      0.000       0.007       0.022\n",
       "x6            -0.9819      0.220     -4.468      0.000      -1.437      -0.527\n",
       "x7             0.0489      0.025      1.958      0.062      -0.003       0.101\n",
       "==============================================================================\n",
       "Omnibus:                        2.195   Durbin-Watson:                   2.410\n",
       "Prob(Omnibus):                  0.334   Jarque-Bera (JB):                1.655\n",
       "Skew:                           0.385   Prob(JB):                        0.437\n",
       "Kurtosis:                       2.170   Cond. No.                     1.96e+04\n",
       "==============================================================================\n",
       "\n",
       "Warnings:\n",
       "[1] Standard Errors assume that the covariance matrix of the errors is correctly specified.\n",
       "[2] The condition number is large, 1.96e+04. This might indicate that there are\n",
       "strong multicollinearity or other numerical problems.\n",
       "\"\"\""
      ]
     },
     "execution_count": 9,
     "metadata": {},
     "output_type": "execute_result"
    }
   ],
   "source": [
    "# I will use Backward elimination model for feature selection\n",
    "# Based On A, We will start model 1 which has all IVs in the model.\n",
    "# And then, I will romove sequentially based on T-test if IV is not insignificant\n",
    "# Based on Below chart, x1 is insignificant with 95% CI, So I can remove it\n",
    "\n",
    "model1 = smf.ols(formula = 'dv ~ x1 + x2 + x3 + x4 + x5 + x6 + x7', data = data)\n",
    "result = model1.fit()\n",
    "result.summary()"
   ]
  },
  {
   "cell_type": "code",
   "execution_count": 10,
   "metadata": {},
   "outputs": [
    {
     "data": {
      "text/html": [
       "<table class=\"simpletable\">\n",
       "<caption>OLS Regression Results</caption>\n",
       "<tr>\n",
       "  <th>Dep. Variable:</th>           <td>dv</td>        <th>  R-squared:         </th> <td>   0.839</td>\n",
       "</tr>\n",
       "<tr>\n",
       "  <th>Model:</th>                   <td>OLS</td>       <th>  Adj. R-squared:    </th> <td>   0.799</td>\n",
       "</tr>\n",
       "<tr>\n",
       "  <th>Method:</th>             <td>Least Squares</td>  <th>  F-statistic:       </th> <td>   20.87</td>\n",
       "</tr>\n",
       "<tr>\n",
       "  <th>Date:</th>             <td>Mon, 18 Nov 2019</td> <th>  Prob (F-statistic):</th> <td>1.98e-08</td>\n",
       "</tr>\n",
       "<tr>\n",
       "  <th>Time:</th>                 <td>22:21:39</td>     <th>  Log-Likelihood:    </th> <td> -4.8331</td>\n",
       "</tr>\n",
       "<tr>\n",
       "  <th>No. Observations:</th>      <td>    31</td>      <th>  AIC:               </th> <td>   23.67</td>\n",
       "</tr>\n",
       "<tr>\n",
       "  <th>Df Residuals:</th>          <td>    24</td>      <th>  BIC:               </th> <td>   33.70</td>\n",
       "</tr>\n",
       "<tr>\n",
       "  <th>Df Model:</th>              <td>     6</td>      <th>                     </th>     <td> </td>   \n",
       "</tr>\n",
       "<tr>\n",
       "  <th>Covariance Type:</th>      <td>nonrobust</td>    <th>                     </th>     <td> </td>   \n",
       "</tr>\n",
       "</table>\n",
       "<table class=\"simpletable\">\n",
       "<tr>\n",
       "      <td></td>         <th>coef</th>     <th>std err</th>      <th>t</th>      <th>P>|t|</th>  <th>[0.025</th>    <th>0.975]</th>  \n",
       "</tr>\n",
       "<tr>\n",
       "  <th>Intercept</th> <td>    3.0057</td> <td>    0.231</td> <td>   13.009</td> <td> 0.000</td> <td>    2.529</td> <td>    3.483</td>\n",
       "</tr>\n",
       "<tr>\n",
       "  <th>x2</th>        <td>   -0.0002</td> <td>    0.000</td> <td>   -0.909</td> <td> 0.372</td> <td>   -0.001</td> <td>    0.000</td>\n",
       "</tr>\n",
       "<tr>\n",
       "  <th>x3</th>        <td>    0.0499</td> <td>    0.017</td> <td>    2.890</td> <td> 0.008</td> <td>    0.014</td> <td>    0.086</td>\n",
       "</tr>\n",
       "<tr>\n",
       "  <th>x4</th>        <td>-7.653e-05</td> <td>  2.8e-05</td> <td>   -2.731</td> <td> 0.012</td> <td>   -0.000</td> <td>-1.87e-05</td>\n",
       "</tr>\n",
       "<tr>\n",
       "  <th>x5</th>        <td>    0.0161</td> <td>    0.003</td> <td>    5.914</td> <td> 0.000</td> <td>    0.011</td> <td>    0.022</td>\n",
       "</tr>\n",
       "<tr>\n",
       "  <th>x6</th>        <td>   -0.9154</td> <td>    0.187</td> <td>   -4.906</td> <td> 0.000</td> <td>   -1.300</td> <td>   -0.530</td>\n",
       "</tr>\n",
       "<tr>\n",
       "  <th>x7</th>        <td>    0.0583</td> <td>    0.019</td> <td>    3.053</td> <td> 0.005</td> <td>    0.019</td> <td>    0.098</td>\n",
       "</tr>\n",
       "</table>\n",
       "<table class=\"simpletable\">\n",
       "<tr>\n",
       "  <th>Omnibus:</th>       <td> 2.077</td> <th>  Durbin-Watson:     </th> <td>   2.333</td>\n",
       "</tr>\n",
       "<tr>\n",
       "  <th>Prob(Omnibus):</th> <td> 0.354</td> <th>  Jarque-Bera (JB):  </th> <td>   1.884</td>\n",
       "</tr>\n",
       "<tr>\n",
       "  <th>Skew:</th>          <td> 0.552</td> <th>  Prob(JB):          </th> <td>   0.390</td>\n",
       "</tr>\n",
       "<tr>\n",
       "  <th>Kurtosis:</th>      <td> 2.512</td> <th>  Cond. No.          </th> <td>1.27e+04</td>\n",
       "</tr>\n",
       "</table><br/><br/>Warnings:<br/>[1] Standard Errors assume that the covariance matrix of the errors is correctly specified.<br/>[2] The condition number is large, 1.27e+04. This might indicate that there are<br/>strong multicollinearity or other numerical problems."
      ],
      "text/plain": [
       "<class 'statsmodels.iolib.summary.Summary'>\n",
       "\"\"\"\n",
       "                            OLS Regression Results                            \n",
       "==============================================================================\n",
       "Dep. Variable:                     dv   R-squared:                       0.839\n",
       "Model:                            OLS   Adj. R-squared:                  0.799\n",
       "Method:                 Least Squares   F-statistic:                     20.87\n",
       "Date:                Mon, 18 Nov 2019   Prob (F-statistic):           1.98e-08\n",
       "Time:                        22:21:39   Log-Likelihood:                -4.8331\n",
       "No. Observations:                  31   AIC:                             23.67\n",
       "Df Residuals:                      24   BIC:                             33.70\n",
       "Df Model:                           6                                         \n",
       "Covariance Type:            nonrobust                                         \n",
       "==============================================================================\n",
       "                 coef    std err          t      P>|t|      [0.025      0.975]\n",
       "------------------------------------------------------------------------------\n",
       "Intercept      3.0057      0.231     13.009      0.000       2.529       3.483\n",
       "x2            -0.0002      0.000     -0.909      0.372      -0.001       0.000\n",
       "x3             0.0499      0.017      2.890      0.008       0.014       0.086\n",
       "x4         -7.653e-05    2.8e-05     -2.731      0.012      -0.000   -1.87e-05\n",
       "x5             0.0161      0.003      5.914      0.000       0.011       0.022\n",
       "x6            -0.9154      0.187     -4.906      0.000      -1.300      -0.530\n",
       "x7             0.0583      0.019      3.053      0.005       0.019       0.098\n",
       "==============================================================================\n",
       "Omnibus:                        2.077   Durbin-Watson:                   2.333\n",
       "Prob(Omnibus):                  0.354   Jarque-Bera (JB):                1.884\n",
       "Skew:                           0.552   Prob(JB):                        0.390\n",
       "Kurtosis:                       2.512   Cond. No.                     1.27e+04\n",
       "==============================================================================\n",
       "\n",
       "Warnings:\n",
       "[1] Standard Errors assume that the covariance matrix of the errors is correctly specified.\n",
       "[2] The condition number is large, 1.27e+04. This might indicate that there are\n",
       "strong multicollinearity or other numerical problems.\n",
       "\"\"\""
      ]
     },
     "execution_count": 10,
     "metadata": {},
     "output_type": "execute_result"
    }
   ],
   "source": [
    "# Based on below graph, x2 is insignificant with 95% CI, So I can remove X2 in the model.\n",
    "\n",
    "model_x2_x7 = smf.ols(formula = 'dv ~ x2 + x3 + x4 + x5 + x6 + x7', data = data)\n",
    "result = model_x2_x7.fit()\n",
    "result.summary()"
   ]
  },
  {
   "cell_type": "code",
   "execution_count": 12,
   "metadata": {},
   "outputs": [
    {
     "data": {
      "text/html": [
       "<table class=\"simpletable\">\n",
       "<caption>OLS Regression Results</caption>\n",
       "<tr>\n",
       "  <th>Dep. Variable:</th>           <td>dv</td>        <th>  R-squared:         </th> <td>   0.834</td>\n",
       "</tr>\n",
       "<tr>\n",
       "  <th>Model:</th>                   <td>OLS</td>       <th>  Adj. R-squared:    </th> <td>   0.800</td>\n",
       "</tr>\n",
       "<tr>\n",
       "  <th>Method:</th>             <td>Least Squares</td>  <th>  F-statistic:       </th> <td>   25.05</td>\n",
       "</tr>\n",
       "<tr>\n",
       "  <th>Date:</th>             <td>Mon, 18 Nov 2019</td> <th>  Prob (F-statistic):</th> <td>5.47e-09</td>\n",
       "</tr>\n",
       "<tr>\n",
       "  <th>Time:</th>                 <td>22:23:48</td>     <th>  Log-Likelihood:    </th> <td> -5.3577</td>\n",
       "</tr>\n",
       "<tr>\n",
       "  <th>No. Observations:</th>      <td>    31</td>      <th>  AIC:               </th> <td>   22.72</td>\n",
       "</tr>\n",
       "<tr>\n",
       "  <th>Df Residuals:</th>          <td>    25</td>      <th>  BIC:               </th> <td>   31.32</td>\n",
       "</tr>\n",
       "<tr>\n",
       "  <th>Df Model:</th>              <td>     5</td>      <th>                     </th>     <td> </td>   \n",
       "</tr>\n",
       "<tr>\n",
       "  <th>Covariance Type:</th>      <td>nonrobust</td>    <th>                     </th>     <td> </td>   \n",
       "</tr>\n",
       "</table>\n",
       "<table class=\"simpletable\">\n",
       "<tr>\n",
       "      <td></td>         <th>coef</th>     <th>std err</th>      <th>t</th>      <th>P>|t|</th>  <th>[0.025</th>    <th>0.975]</th>  \n",
       "</tr>\n",
       "<tr>\n",
       "  <th>Intercept</th> <td>    3.0887</td> <td>    0.212</td> <td>   14.603</td> <td> 0.000</td> <td>    2.653</td> <td>    3.524</td>\n",
       "</tr>\n",
       "<tr>\n",
       "  <th>x3</th>        <td>    0.0505</td> <td>    0.017</td> <td>    2.934</td> <td> 0.007</td> <td>    0.015</td> <td>    0.086</td>\n",
       "</tr>\n",
       "<tr>\n",
       "  <th>x4</th>        <td>-7.859e-05</td> <td> 2.78e-05</td> <td>   -2.824</td> <td> 0.009</td> <td>   -0.000</td> <td>-2.13e-05</td>\n",
       "</tr>\n",
       "<tr>\n",
       "  <th>x5</th>        <td>    0.0172</td> <td>    0.002</td> <td>    7.080</td> <td> 0.000</td> <td>    0.012</td> <td>    0.022</td>\n",
       "</tr>\n",
       "<tr>\n",
       "  <th>x6</th>        <td>   -0.8835</td> <td>    0.183</td> <td>   -4.838</td> <td> 0.000</td> <td>   -1.260</td> <td>   -0.507</td>\n",
       "</tr>\n",
       "<tr>\n",
       "  <th>x7</th>        <td>    0.0478</td> <td>    0.015</td> <td>    3.147</td> <td> 0.004</td> <td>    0.017</td> <td>    0.079</td>\n",
       "</tr>\n",
       "</table>\n",
       "<table class=\"simpletable\">\n",
       "<tr>\n",
       "  <th>Omnibus:</th>       <td> 2.229</td> <th>  Durbin-Watson:     </th> <td>   2.265</td>\n",
       "</tr>\n",
       "<tr>\n",
       "  <th>Prob(Omnibus):</th> <td> 0.328</td> <th>  Jarque-Bera (JB):  </th> <td>   1.889</td>\n",
       "</tr>\n",
       "<tr>\n",
       "  <th>Skew:</th>          <td> 0.587</td> <th>  Prob(JB):          </th> <td>   0.389</td>\n",
       "</tr>\n",
       "<tr>\n",
       "  <th>Kurtosis:</th>      <td> 2.709</td> <th>  Cond. No.          </th> <td>1.20e+04</td>\n",
       "</tr>\n",
       "</table><br/><br/>Warnings:<br/>[1] Standard Errors assume that the covariance matrix of the errors is correctly specified.<br/>[2] The condition number is large, 1.2e+04. This might indicate that there are<br/>strong multicollinearity or other numerical problems."
      ],
      "text/plain": [
       "<class 'statsmodels.iolib.summary.Summary'>\n",
       "\"\"\"\n",
       "                            OLS Regression Results                            \n",
       "==============================================================================\n",
       "Dep. Variable:                     dv   R-squared:                       0.834\n",
       "Model:                            OLS   Adj. R-squared:                  0.800\n",
       "Method:                 Least Squares   F-statistic:                     25.05\n",
       "Date:                Mon, 18 Nov 2019   Prob (F-statistic):           5.47e-09\n",
       "Time:                        22:23:48   Log-Likelihood:                -5.3577\n",
       "No. Observations:                  31   AIC:                             22.72\n",
       "Df Residuals:                      25   BIC:                             31.32\n",
       "Df Model:                           5                                         \n",
       "Covariance Type:            nonrobust                                         \n",
       "==============================================================================\n",
       "                 coef    std err          t      P>|t|      [0.025      0.975]\n",
       "------------------------------------------------------------------------------\n",
       "Intercept      3.0887      0.212     14.603      0.000       2.653       3.524\n",
       "x3             0.0505      0.017      2.934      0.007       0.015       0.086\n",
       "x4         -7.859e-05   2.78e-05     -2.824      0.009      -0.000   -2.13e-05\n",
       "x5             0.0172      0.002      7.080      0.000       0.012       0.022\n",
       "x6            -0.8835      0.183     -4.838      0.000      -1.260      -0.507\n",
       "x7             0.0478      0.015      3.147      0.004       0.017       0.079\n",
       "==============================================================================\n",
       "Omnibus:                        2.229   Durbin-Watson:                   2.265\n",
       "Prob(Omnibus):                  0.328   Jarque-Bera (JB):                1.889\n",
       "Skew:                           0.587   Prob(JB):                        0.389\n",
       "Kurtosis:                       2.709   Cond. No.                     1.20e+04\n",
       "==============================================================================\n",
       "\n",
       "Warnings:\n",
       "[1] Standard Errors assume that the covariance matrix of the errors is correctly specified.\n",
       "[2] The condition number is large, 1.2e+04. This might indicate that there are\n",
       "strong multicollinearity or other numerical problems.\n",
       "\"\"\""
      ]
     },
     "execution_count": 12,
     "metadata": {},
     "output_type": "execute_result"
    }
   ],
   "source": [
    "# In this, All IVs are signigicant with 95 % CI.\n",
    "# And, In case of X4, there is too small coeficient with DV, So I removed it.\n",
    "# So, I can use X3, X5, X6, and X7 as IVs in the model.\n",
    "\n",
    "model_x3_x7 = smf.ols(formula = 'dv ~ x3 + x4 + x5 + x6 + x7', data = data)\n",
    "result = model_x3_x7.fit()\n",
    "result.summary()"
   ]
  },
  {
   "cell_type": "code",
   "execution_count": 13,
   "metadata": {},
   "outputs": [
    {
     "data": {
      "text/html": [
       "<table class=\"simpletable\">\n",
       "<caption>OLS Regression Results</caption>\n",
       "<tr>\n",
       "  <th>Dep. Variable:</th>           <td>dv</td>        <th>  R-squared:         </th> <td>   0.781</td>\n",
       "</tr>\n",
       "<tr>\n",
       "  <th>Model:</th>                   <td>OLS</td>       <th>  Adj. R-squared:    </th> <td>   0.747</td>\n",
       "</tr>\n",
       "<tr>\n",
       "  <th>Method:</th>             <td>Least Squares</td>  <th>  F-statistic:       </th> <td>   23.12</td>\n",
       "</tr>\n",
       "<tr>\n",
       "  <th>Date:</th>             <td>Mon, 18 Nov 2019</td> <th>  Prob (F-statistic):</th> <td>3.05e-08</td>\n",
       "</tr>\n",
       "<tr>\n",
       "  <th>Time:</th>                 <td>22:23:51</td>     <th>  Log-Likelihood:    </th> <td> -9.6483</td>\n",
       "</tr>\n",
       "<tr>\n",
       "  <th>No. Observations:</th>      <td>    31</td>      <th>  AIC:               </th> <td>   29.30</td>\n",
       "</tr>\n",
       "<tr>\n",
       "  <th>Df Residuals:</th>          <td>    26</td>      <th>  BIC:               </th> <td>   36.47</td>\n",
       "</tr>\n",
       "<tr>\n",
       "  <th>Df Model:</th>              <td>     4</td>      <th>                     </th>     <td> </td>   \n",
       "</tr>\n",
       "<tr>\n",
       "  <th>Covariance Type:</th>      <td>nonrobust</td>    <th>                     </th>     <td> </td>   \n",
       "</tr>\n",
       "</table>\n",
       "<table class=\"simpletable\">\n",
       "<tr>\n",
       "      <td></td>         <th>coef</th>     <th>std err</th>      <th>t</th>      <th>P>|t|</th>  <th>[0.025</th>    <th>0.975]</th>  \n",
       "</tr>\n",
       "<tr>\n",
       "  <th>Intercept</th> <td>    2.8244</td> <td>    0.214</td> <td>   13.223</td> <td> 0.000</td> <td>    2.385</td> <td>    3.263</td>\n",
       "</tr>\n",
       "<tr>\n",
       "  <th>x3</th>        <td>    0.0746</td> <td>    0.017</td> <td>    4.435</td> <td> 0.000</td> <td>    0.040</td> <td>    0.109</td>\n",
       "</tr>\n",
       "<tr>\n",
       "  <th>x5</th>        <td>    0.0186</td> <td>    0.003</td> <td>    6.902</td> <td> 0.000</td> <td>    0.013</td> <td>    0.024</td>\n",
       "</tr>\n",
       "<tr>\n",
       "  <th>x6</th>        <td>   -0.7789</td> <td>    0.201</td> <td>   -3.868</td> <td> 0.001</td> <td>   -1.193</td> <td>   -0.365</td>\n",
       "</tr>\n",
       "<tr>\n",
       "  <th>x7</th>        <td>    0.0591</td> <td>    0.017</td> <td>    3.575</td> <td> 0.001</td> <td>    0.025</td> <td>    0.093</td>\n",
       "</tr>\n",
       "</table>\n",
       "<table class=\"simpletable\">\n",
       "<tr>\n",
       "  <th>Omnibus:</th>       <td>10.288</td> <th>  Durbin-Watson:     </th> <td>   2.376</td>\n",
       "</tr>\n",
       "<tr>\n",
       "  <th>Prob(Omnibus):</th> <td> 0.006</td> <th>  Jarque-Bera (JB):  </th> <td>   8.969</td>\n",
       "</tr>\n",
       "<tr>\n",
       "  <th>Skew:</th>          <td> 1.182</td> <th>  Prob(JB):          </th> <td>  0.0113</td>\n",
       "</tr>\n",
       "<tr>\n",
       "  <th>Kurtosis:</th>      <td> 4.163</td> <th>  Cond. No.          </th> <td>    216.</td>\n",
       "</tr>\n",
       "</table><br/><br/>Warnings:<br/>[1] Standard Errors assume that the covariance matrix of the errors is correctly specified."
      ],
      "text/plain": [
       "<class 'statsmodels.iolib.summary.Summary'>\n",
       "\"\"\"\n",
       "                            OLS Regression Results                            \n",
       "==============================================================================\n",
       "Dep. Variable:                     dv   R-squared:                       0.781\n",
       "Model:                            OLS   Adj. R-squared:                  0.747\n",
       "Method:                 Least Squares   F-statistic:                     23.12\n",
       "Date:                Mon, 18 Nov 2019   Prob (F-statistic):           3.05e-08\n",
       "Time:                        22:23:51   Log-Likelihood:                -9.6483\n",
       "No. Observations:                  31   AIC:                             29.30\n",
       "Df Residuals:                      26   BIC:                             36.47\n",
       "Df Model:                           4                                         \n",
       "Covariance Type:            nonrobust                                         \n",
       "==============================================================================\n",
       "                 coef    std err          t      P>|t|      [0.025      0.975]\n",
       "------------------------------------------------------------------------------\n",
       "Intercept      2.8244      0.214     13.223      0.000       2.385       3.263\n",
       "x3             0.0746      0.017      4.435      0.000       0.040       0.109\n",
       "x5             0.0186      0.003      6.902      0.000       0.013       0.024\n",
       "x6            -0.7789      0.201     -3.868      0.001      -1.193      -0.365\n",
       "x7             0.0591      0.017      3.575      0.001       0.025       0.093\n",
       "==============================================================================\n",
       "Omnibus:                       10.288   Durbin-Watson:                   2.376\n",
       "Prob(Omnibus):                  0.006   Jarque-Bera (JB):                8.969\n",
       "Skew:                           1.182   Prob(JB):                       0.0113\n",
       "Kurtosis:                       4.163   Cond. No.                         216.\n",
       "==============================================================================\n",
       "\n",
       "Warnings:\n",
       "[1] Standard Errors assume that the covariance matrix of the errors is correctly specified.\n",
       "\"\"\""
      ]
     },
     "execution_count": 13,
     "metadata": {},
     "output_type": "execute_result"
    }
   ],
   "source": [
    "model2 = smf.ols(formula = 'dv ~ x3 + x5 + x6 + x7', data = data)\n",
    "result = model2.fit()\n",
    "result.summary()"
   ]
  },
  {
   "cell_type": "markdown",
   "metadata": {},
   "source": [
    "##### C. Compare R2 between A and B. Also, compare adjusted R2 between A and B."
   ]
  },
  {
   "cell_type": "code",
   "execution_count": 14,
   "metadata": {},
   "outputs": [],
   "source": [
    "# As we can see A, R-sqared of model 1 is 0.842\n",
    "# And Ajd R-sqared of model 1 is 0.793\n",
    "\n",
    "# As we can see B, R-sqared of model 2 is 0.781\n",
    "# And Ajd R-sqared of model 2 is 0.747"
   ]
  },
  {
   "cell_type": "markdown",
   "metadata": {},
   "source": [
    "##### D. Compare the parameter values (bi) between A and B and interpret what the parameter values indicate in terms of the prediction of Y."
   ]
  },
  {
   "cell_type": "code",
   "execution_count": 15,
   "metadata": {},
   "outputs": [],
   "source": [
    "# X1 (IV): County, {0 = San Mateo, 1 = Santa Clara}\n",
    "# X2 (IV): Size of property (acre)\n",
    "# X3 (IV): Elevation (altitude above sea level) (ft)\n",
    "# X4 (IV): Sewer (distance to the nearest sewer facility)\n",
    "# X5 (IV): Date of the past selling backward from current time (months)\n",
    "# X6 (IV): Flood possibility by tidal action (0 = not, 1 = possible)\n",
    "# X7 (IV): Distance to San Francisco (mile)\n",
    "\n",
    "# In case of A\n",
    "# b0 = 3.0986, b1 = -0.1596, b2 = -0.0003, b3 = 0.0505, b4 = -0.00008338, b5 = 0.0148, b6 = -0.9819, b7 = 0.0489\n",
    "\n",
    "# In case of B \n",
    "# b0 = 2.8244, b3 = 0.0746, b5 = 0.0186, b6 = -0.7789, b7 = 0.0591\n",
    "\n",
    "# In model A, price could be predicted by combination of all variables. \n",
    "# in this, most affected variables is x6(flood possibility) which has negative correlations.\n",
    "# x4 (sewer) has no effect on price to both model.\n",
    "# In model B, price could be predicted by combination of x3(elevation), x5(date of past selling date), \n",
    "# x6(flood posibility) and x7(distance to san fransicso) \n",
    "# Based on this,Other variables could be fixed, x6 has a highly negative corr with dv (price)\n",
    "# That is, If other variables are fixed and x6 is increased one unit, then price is decreased -0.9819 and -0.7789 in each model 1 and 2\n",
    "# in similar way, if variavles has negative correlation with price, it meas that if other bariables could be fixed, that variables\n",
    "# could negative effect on the price with ther coeficient.\n",
    "# And if variables has positive correlation with price, it means that if other variables could be fixed, that variables \n",
    "# could positive effect on the price with their coeficient. "
   ]
  },
  {
   "cell_type": "markdown",
   "metadata": {},
   "source": [
    "### Problem 2."
   ]
  },
  {
   "cell_type": "markdown",
   "metadata": {},
   "source": [
    "###### A. Fill in an ANOVA table below. Test the null hypothesis that bi = 0 for all i. Set the significance level, a = 0.01. Report your p-value."
   ]
  },
  {
   "cell_type": "code",
   "execution_count": 16,
   "metadata": {
    "scrolled": true
   },
   "outputs": [
    {
     "data": {
      "text/html": [
       "<div>\n",
       "<style scoped>\n",
       "    .dataframe tbody tr th:only-of-type {\n",
       "        vertical-align: middle;\n",
       "    }\n",
       "\n",
       "    .dataframe tbody tr th {\n",
       "        vertical-align: top;\n",
       "    }\n",
       "\n",
       "    .dataframe thead th {\n",
       "        text-align: right;\n",
       "    }\n",
       "</style>\n",
       "<table border=\"1\" class=\"dataframe\">\n",
       "  <thead>\n",
       "    <tr style=\"text-align: right;\">\n",
       "      <th></th>\n",
       "      <th>df</th>\n",
       "      <th>sum_sq</th>\n",
       "      <th>mean_sq</th>\n",
       "      <th>F</th>\n",
       "      <th>PR(&gt;F)</th>\n",
       "    </tr>\n",
       "  </thead>\n",
       "  <tbody>\n",
       "    <tr>\n",
       "      <th>x3</th>\n",
       "      <td>1.0</td>\n",
       "      <td>2.894696</td>\n",
       "      <td>2.894696</td>\n",
       "      <td>22.251258</td>\n",
       "      <td>7.091894e-05</td>\n",
       "    </tr>\n",
       "    <tr>\n",
       "      <th>x5</th>\n",
       "      <td>1.0</td>\n",
       "      <td>6.426115</td>\n",
       "      <td>6.426115</td>\n",
       "      <td>49.396955</td>\n",
       "      <td>1.833677e-07</td>\n",
       "    </tr>\n",
       "    <tr>\n",
       "      <th>x6</th>\n",
       "      <td>1.0</td>\n",
       "      <td>1.048022</td>\n",
       "      <td>1.048022</td>\n",
       "      <td>8.056047</td>\n",
       "      <td>8.682080e-03</td>\n",
       "    </tr>\n",
       "    <tr>\n",
       "      <th>x7</th>\n",
       "      <td>1.0</td>\n",
       "      <td>1.662726</td>\n",
       "      <td>1.662726</td>\n",
       "      <td>12.781219</td>\n",
       "      <td>1.400977e-03</td>\n",
       "    </tr>\n",
       "    <tr>\n",
       "      <th>Residual</th>\n",
       "      <td>26.0</td>\n",
       "      <td>3.382374</td>\n",
       "      <td>0.130091</td>\n",
       "      <td>NaN</td>\n",
       "      <td>NaN</td>\n",
       "    </tr>\n",
       "  </tbody>\n",
       "</table>\n",
       "</div>"
      ],
      "text/plain": [
       "            df    sum_sq   mean_sq          F        PR(>F)\n",
       "x3         1.0  2.894696  2.894696  22.251258  7.091894e-05\n",
       "x5         1.0  6.426115  6.426115  49.396955  1.833677e-07\n",
       "x6         1.0  1.048022  1.048022   8.056047  8.682080e-03\n",
       "x7         1.0  1.662726  1.662726  12.781219  1.400977e-03\n",
       "Residual  26.0  3.382374  0.130091        NaN           NaN"
      ]
     },
     "execution_count": 16,
     "metadata": {},
     "output_type": "execute_result"
    }
   ],
   "source": [
    "# For statistics. Requires statsmodels 5.0 or more\n",
    "from statsmodels.formula.api import ols\n",
    "\n",
    "# Analysis of Variance (ANOVA) on linear models\n",
    "from statsmodels.stats.anova import anova_lm\n",
    "\n",
    "model2 = ols('dv ~ x3 + x5 + x6 + x7', data = data).fit()\n",
    "aov_table = sm.stats.anova_lm(model2, type=1)\n",
    "aov_table"
   ]
  },
  {
   "cell_type": "code",
   "execution_count": 35,
   "metadata": {},
   "outputs": [
    {
     "name": "stdout",
     "output_type": "stream",
     "text": [
      "F0.01,4,26 =  4.1399604836950115\n"
     ]
    },
    {
     "data": {
      "image/png": "[encoded data removed]",
      "text/plain": [
       "<Figure size 432x288 with 1 Axes>"
      ]
     },
     "metadata": {
      "needs_background": "light"
     },
     "output_type": "display_data"
    }
   ],
   "source": [
    "from scipy.stats import f\n",
    "from scipy import stats\n",
    "\n",
    "import scipy\n",
    "\n",
    "\n",
    "from PIL import Image\n",
    "\n",
    "im = Image.open('C:/Users/johnny0614/OneDrive - unist.ac.kr/UNIST/19년 2학기/multivariate/ANOVA table.jpg')\n",
    "im.show()\n",
    "pix = np.array(image)\n",
    "import matplotlib.pyplot as plt\n",
    "%matplotlib inline \n",
    "\n",
    "plt.imshow(pix)\n",
    "\n",
    "# F statistic = 23.121 \n",
    "# ANOVA Table is attached in zip file, so it can be refered\n",
    "\n",
    "from scipy.stats import f\n",
    "import scipy.stats\n",
    "print(\"F0.01,4,26 = \", scipy.stats.f.ppf(q=1-0.01, dfn=4, dfd=26))\n",
    "\n",
    "# 23.121 > 4.14, So we can reject the null hypothesis which is all parameter of the model is equal to 0."
   ]
  },
  {
   "cell_type": "markdown",
   "metadata": {},
   "source": [
    "##### B. Perform the t-test on each parameter, bi. Report which parameters are significantly different from 0."
   ]
  },
  {
   "cell_type": "code",
   "execution_count": 18,
   "metadata": {},
   "outputs": [
    {
     "data": {
      "text/html": [
       "<table class=\"simpletable\">\n",
       "<caption>OLS Regression Results</caption>\n",
       "<tr>\n",
       "  <th>Dep. Variable:</th>           <td>dv</td>        <th>  R-squared:         </th> <td>   0.781</td>\n",
       "</tr>\n",
       "<tr>\n",
       "  <th>Model:</th>                   <td>OLS</td>       <th>  Adj. R-squared:    </th> <td>   0.747</td>\n",
       "</tr>\n",
       "<tr>\n",
       "  <th>Method:</th>             <td>Least Squares</td>  <th>  F-statistic:       </th> <td>   23.12</td>\n",
       "</tr>\n",
       "<tr>\n",
       "  <th>Date:</th>             <td>Mon, 18 Nov 2019</td> <th>  Prob (F-statistic):</th> <td>3.05e-08</td>\n",
       "</tr>\n",
       "<tr>\n",
       "  <th>Time:</th>                 <td>20:23:51</td>     <th>  Log-Likelihood:    </th> <td> -9.6483</td>\n",
       "</tr>\n",
       "<tr>\n",
       "  <th>No. Observations:</th>      <td>    31</td>      <th>  AIC:               </th> <td>   29.30</td>\n",
       "</tr>\n",
       "<tr>\n",
       "  <th>Df Residuals:</th>          <td>    26</td>      <th>  BIC:               </th> <td>   36.47</td>\n",
       "</tr>\n",
       "<tr>\n",
       "  <th>Df Model:</th>              <td>     4</td>      <th>                     </th>     <td> </td>   \n",
       "</tr>\n",
       "<tr>\n",
       "  <th>Covariance Type:</th>      <td>nonrobust</td>    <th>                     </th>     <td> </td>   \n",
       "</tr>\n",
       "</table>\n",
       "<table class=\"simpletable\">\n",
       "<tr>\n",
       "      <td></td>         <th>coef</th>     <th>std err</th>      <th>t</th>      <th>P>|t|</th>  <th>[0.025</th>    <th>0.975]</th>  \n",
       "</tr>\n",
       "<tr>\n",
       "  <th>Intercept</th> <td>    2.8244</td> <td>    0.214</td> <td>   13.223</td> <td> 0.000</td> <td>    2.385</td> <td>    3.263</td>\n",
       "</tr>\n",
       "<tr>\n",
       "  <th>x3</th>        <td>    0.0746</td> <td>    0.017</td> <td>    4.435</td> <td> 0.000</td> <td>    0.040</td> <td>    0.109</td>\n",
       "</tr>\n",
       "<tr>\n",
       "  <th>x5</th>        <td>    0.0186</td> <td>    0.003</td> <td>    6.902</td> <td> 0.000</td> <td>    0.013</td> <td>    0.024</td>\n",
       "</tr>\n",
       "<tr>\n",
       "  <th>x6</th>        <td>   -0.7789</td> <td>    0.201</td> <td>   -3.868</td> <td> 0.001</td> <td>   -1.193</td> <td>   -0.365</td>\n",
       "</tr>\n",
       "<tr>\n",
       "  <th>x7</th>        <td>    0.0591</td> <td>    0.017</td> <td>    3.575</td> <td> 0.001</td> <td>    0.025</td> <td>    0.093</td>\n",
       "</tr>\n",
       "</table>\n",
       "<table class=\"simpletable\">\n",
       "<tr>\n",
       "  <th>Omnibus:</th>       <td>10.288</td> <th>  Durbin-Watson:     </th> <td>   2.376</td>\n",
       "</tr>\n",
       "<tr>\n",
       "  <th>Prob(Omnibus):</th> <td> 0.006</td> <th>  Jarque-Bera (JB):  </th> <td>   8.969</td>\n",
       "</tr>\n",
       "<tr>\n",
       "  <th>Skew:</th>          <td> 1.182</td> <th>  Prob(JB):          </th> <td>  0.0113</td>\n",
       "</tr>\n",
       "<tr>\n",
       "  <th>Kurtosis:</th>      <td> 4.163</td> <th>  Cond. No.          </th> <td>    216.</td>\n",
       "</tr>\n",
       "</table><br/><br/>Warnings:<br/>[1] Standard Errors assume that the covariance matrix of the errors is correctly specified."
      ],
      "text/plain": [
       "<class 'statsmodels.iolib.summary.Summary'>\n",
       "\"\"\"\n",
       "                            OLS Regression Results                            \n",
       "==============================================================================\n",
       "Dep. Variable:                     dv   R-squared:                       0.781\n",
       "Model:                            OLS   Adj. R-squared:                  0.747\n",
       "Method:                 Least Squares   F-statistic:                     23.12\n",
       "Date:                Mon, 18 Nov 2019   Prob (F-statistic):           3.05e-08\n",
       "Time:                        20:23:51   Log-Likelihood:                -9.6483\n",
       "No. Observations:                  31   AIC:                             29.30\n",
       "Df Residuals:                      26   BIC:                             36.47\n",
       "Df Model:                           4                                         \n",
       "Covariance Type:            nonrobust                                         \n",
       "==============================================================================\n",
       "                 coef    std err          t      P>|t|      [0.025      0.975]\n",
       "------------------------------------------------------------------------------\n",
       "Intercept      2.8244      0.214     13.223      0.000       2.385       3.263\n",
       "x3             0.0746      0.017      4.435      0.000       0.040       0.109\n",
       "x5             0.0186      0.003      6.902      0.000       0.013       0.024\n",
       "x6            -0.7789      0.201     -3.868      0.001      -1.193      -0.365\n",
       "x7             0.0591      0.017      3.575      0.001       0.025       0.093\n",
       "==============================================================================\n",
       "Omnibus:                       10.288   Durbin-Watson:                   2.376\n",
       "Prob(Omnibus):                  0.006   Jarque-Bera (JB):                8.969\n",
       "Skew:                           1.182   Prob(JB):                       0.0113\n",
       "Kurtosis:                       4.163   Cond. No.                         216.\n",
       "==============================================================================\n",
       "\n",
       "Warnings:\n",
       "[1] Standard Errors assume that the covariance matrix of the errors is correctly specified.\n",
       "\"\"\""
      ]
     },
     "execution_count": 18,
     "metadata": {},
     "output_type": "execute_result"
    }
   ],
   "source": [
    "model2.summary()\n",
    "\n",
    "# Based on below table, all p-value looks significant with CI 95 % and 99 %.\n",
    "# So, We can say that all parameters in the model (x3,x4,x5,x6,x7) are significantly different from 0"
   ]
  },
  {
   "cell_type": "markdown",
   "metadata": {},
   "source": [
    "### Problem 3."
   ]
  },
  {
   "cell_type": "markdown",
   "metadata": {},
   "source": [
    "##### A. Check the multicollinearity by calculating the condition index. What would you conclude?"
   ]
  },
  {
   "cell_type": "code",
   "execution_count": 39,
   "metadata": {},
   "outputs": [
    {
     "name": "stdout",
     "output_type": "stream",
     "text": [
      "[354.88574249  28.72854633  23.84222342   1.79966292]\n",
      "CI =  197.19567400432965\n"
     ]
    }
   ],
   "source": [
    "x_var = ['x3', 'x5', 'x6', 'x7']\n",
    "m = data[x_var]\n",
    "\n",
    "x, v, d = np.linalg.svd(m)\n",
    "print(v)\n",
    "# max singular value is 354.88574249\n",
    "# smallest singular value is 1.79966292\n",
    "\n",
    "CI = 354.88574249/1.79966292\n",
    "\n",
    "print(\"CI = \", CI)\n",
    "\n",
    "# Based on above summary table, condition index is 197.2\n",
    "# Condition index is very larger than 30, So we can say that there is higher multicolinearity in the model.\n",
    "# So, In this, We can reduce the dimension using PCA or Factor analysis to fix the multicolinearity in the model. "
   ]
  },
  {
   "cell_type": "markdown",
   "metadata": {},
   "source": [
    "##### B. Plot the error data. Check the autocorrelation of error using Durbin-Watson statistics. What would you conclude?"
   ]
  },
  {
   "cell_type": "code",
   "execution_count": 22,
   "metadata": {},
   "outputs": [
    {
     "name": "stdout",
     "output_type": "stream",
     "text": [
      "durbin-watson statistics =  2.3762204017819073\n"
     ]
    }
   ],
   "source": [
    "import statsmodels.stats.stattools\n",
    "\n",
    "model_fitted_y = model2.fittedvalues\n",
    "model_residuals = model2.resid\n",
    "\n",
    "print('durbin-watson statistics = ',  statsmodels.stats.stattools.durbin_watson(model_residuals, axis=0))\n",
    "\n",
    "# Durbin-Watson statistics is in above table.\n",
    "# it is 2.376 and close to the 2. So, we can say that there is no autocorrelation in the error"
   ]
  },
  {
   "cell_type": "code",
   "execution_count": 59,
   "metadata": {},
   "outputs": [
    {
     "data": {
      "text/plain": [
       "Text(0, 0.5, 'Residuals')"
      ]
     },
     "execution_count": 59,
     "metadata": {},
     "output_type": "execute_result"
    },
    {
     "data": {
      "image/png": "[encoded data removed]",
      "text/plain": [
       "<Figure size 504x216 with 1 Axes>"
      ]
     },
     "metadata": {
      "needs_background": "light"
     },
     "output_type": "display_data"
    }
   ],
   "source": [
    "%matplotlib inline\n",
    "import seaborn as sns\n",
    "import matplotlib.pyplot as plt\n",
    "import statsmodels.formula.api as smf\n",
    "\n",
    "from statsmodels.graphics.gofplots import ProbPlot\n",
    "\n",
    "plot_lm_1 = plt.figure(1)\n",
    "plot_lm_1.set_figheight(3)\n",
    "plot_lm_1.set_figwidth(7)\n",
    "\n",
    "plot_lm_1.axes[0] = sns.residplot(model_fitted_y, 'dv', data=data, \n",
    "                          lowess=True, \n",
    "                          scatter_kws={'alpha': 0.5}, \n",
    "                          line_kws={'color': 'red', 'lw': 1, 'alpha': 0.8})\n",
    "\n",
    "plot_lm_1.axes[0].set_title('Residuals vs Fitted')\n",
    "plot_lm_1.axes[0].set_xlabel('Fitted values')\n",
    "plot_lm_1.axes[0].set_ylabel('Residuals')"
   ]
  },
  {
   "cell_type": "code",
   "execution_count": null,
   "metadata": {},
   "outputs": [],
   "source": []
  }
 ],
 "metadata": {
  "kernelspec": {
   "display_name": "Python 3",
   "language": "python",
   "name": "python3"
  },
  "language_info": {
   "codemirror_mode": {
    "name": "ipython",
    "version": 3
   },
   "file_extension": ".py",
   "mimetype": "text/x-python",
   "name": "python",
   "nbconvert_exporter": "python",
   "pygments_lexer": "ipython3",
   "version": "3.7.3"
  }
 },
 "nbformat": 4,
 "nbformat_minor": 2
}
