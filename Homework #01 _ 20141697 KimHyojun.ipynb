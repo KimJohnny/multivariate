{
 "cells": [
  {
   "cell_type": "markdown",
   "metadata": {},
   "source": [
    "# Assignment01 _ 20141697 Kim Hyojun"
   ]
  },
  {
   "cell_type": "code",
   "execution_count": 1,
   "metadata": {},
   "outputs": [],
   "source": [
    "import pandas as pd\n",
    "import numpy as np\n",
    "from scipy.stats import probplot\n",
    "import matplotlib.pyplot as plt\n",
    "import seaborn as sns\n",
    "%matplotlib inline\n",
    "import numpy.linalg as lin"
   ]
  },
  {
   "cell_type": "markdown",
   "metadata": {},
   "source": [
    "## Problem 1"
   ]
  },
  {
   "cell_type": "code",
   "execution_count": 2,
   "metadata": {},
   "outputs": [],
   "source": [
    "q1 = pd.DataFrame(columns=['y1', 'y2', 'y3'])\n",
    "y1 = [35.0,35.0,40.0,10.0,6.0,20.0,35.0,35.0,35.0,30.0]\n",
    "y2 = [3.50,4.90,30.0,2.80,2.70, 2.80,4.60,10.90,8.00,1.60]\n",
    "y3 = [2.80,2.70,4.380,3.210,2.730,2.810,2.880,2.90,3.280,3.20]\n",
    "\n",
    "q1['y1'] = y1\n",
    "q1['y2'] = y2\n",
    "q1['y3'] = y3\n",
    "\n",
    "#q1"
   ]
  },
  {
   "cell_type": "markdown",
   "metadata": {},
   "source": [
    "###### A. Visualize the data and describe any potential relationships between the variables that you can observe visually."
   ]
  },
  {
   "cell_type": "code",
   "execution_count": 3,
   "metadata": {},
   "outputs": [
    {
     "data": {
      "image/png": "[encoded data removed]",
      "text/plain": [
       "<Figure size 432x288 with 3 Axes>"
      ]
     },
     "metadata": {
      "needs_background": "light"
     },
     "output_type": "display_data"
    }
   ],
   "source": [
    "# y1: Available Soil Calcium\n",
    "# y2: Exchangeable Soil Calcium\n",
    "# y3: Turnip Green Calcium\n",
    "\n",
    "# sns.pairplot(q1, diag_kind='hist')\n",
    "\n",
    "plt.subplot(2,3,1) \n",
    "plt.scatter(q1['y1'], q1['y2'], c='red', s=10)\n",
    "\n",
    "plt.subplot(2,3,2) \n",
    "plt.scatter(q1['y1'], q1['y3'], c='blue', s=10)\n",
    "\n",
    "plt.subplot(2,3,3) \n",
    "plt.scatter(q1['y2'], q1['y3'], c='green', s=10)\n",
    "\n",
    "plt.tight_layout()\n",
    "\n",
    "plt.show()\n",
    "\n",
    "# In case between y1 and y2(red color) and between y1 and y3 (blue color), those case seem to have a waekly correlation.\n",
    "# because, their points scattered flatly according to x-axis and distributed largely.\n",
    "# However, in case between y2 and y3 (green color), it seems to have a somewhat stron correlation. \n",
    "# because, their points distributed narrowly and scattered more near the y-axis"
   ]
  },
  {
   "cell_type": "markdown",
   "metadata": {},
   "source": [
    "###### B. Calculate the sample mean vector."
   ]
  },
  {
   "cell_type": "code",
   "execution_count": 4,
   "metadata": {},
   "outputs": [
    {
     "data": {
      "text/plain": [
       "array([28.1  ,  7.18 ,  3.089])"
      ]
     },
     "execution_count": 4,
     "metadata": {},
     "output_type": "execute_result"
    }
   ],
   "source": [
    "y1bar = \"%0.3f\" % q1['y1'].mean()\n",
    "y2bar = \"%0.3f\" % q1['y2'].mean()\n",
    "y3bar = \"%0.3f\" % q1['y3'].mean()\n",
    "\n",
    "meanv_y1 = float(y1bar) \n",
    "meanv_y2 = float(y2bar) \n",
    "meanv_y3 = float(y3bar) \n",
    "\n",
    "list_mv = [meanv_y1, meanv_y2, meanv_y3]\n",
    "sample_mean_vector = np.array(list_mv)\n",
    "sample_mean_vector"
   ]
  },
  {
   "cell_type": "markdown",
   "metadata": {},
   "source": [
    "###### C. Calculate the sample covariance matrix"
   ]
  },
  {
   "cell_type": "code",
   "execution_count": 5,
   "metadata": {},
   "outputs": [
    {
     "data": {
      "text/html": [
       "<div>\n",
       "<style scoped>\n",
       "    .dataframe tbody tr th:only-of-type {\n",
       "        vertical-align: middle;\n",
       "    }\n",
       "\n",
       "    .dataframe tbody tr th {\n",
       "        vertical-align: top;\n",
       "    }\n",
       "\n",
       "    .dataframe thead th {\n",
       "        text-align: right;\n",
       "    }\n",
       "</style>\n",
       "<table border=\"1\" class=\"dataframe\">\n",
       "  <thead>\n",
       "    <tr style=\"text-align: right;\">\n",
       "      <th></th>\n",
       "      <th>0</th>\n",
       "      <th>1</th>\n",
       "      <th>2</th>\n",
       "    </tr>\n",
       "  </thead>\n",
       "  <tbody>\n",
       "    <tr>\n",
       "      <th>0</th>\n",
       "      <td>140.544444</td>\n",
       "      <td>49.680000</td>\n",
       "      <td>1.941222</td>\n",
       "    </tr>\n",
       "    <tr>\n",
       "      <th>1</th>\n",
       "      <td>49.680000</td>\n",
       "      <td>72.248444</td>\n",
       "      <td>3.676089</td>\n",
       "    </tr>\n",
       "    <tr>\n",
       "      <th>2</th>\n",
       "      <td>1.941222</td>\n",
       "      <td>3.676089</td>\n",
       "      <td>0.250121</td>\n",
       "    </tr>\n",
       "  </tbody>\n",
       "</table>\n",
       "</div>"
      ],
      "text/plain": [
       "            0          1         2\n",
       "0  140.544444  49.680000  1.941222\n",
       "1   49.680000  72.248444  3.676089\n",
       "2    1.941222   3.676089  0.250121"
      ]
     },
     "execution_count": 5,
     "metadata": {},
     "output_type": "execute_result"
    }
   ],
   "source": [
    "q1_centered = pd.DataFrame(columns=['y1_centered', 'y2_centered', 'y3_centered'])\n",
    "q1_centered['y1_centered'] = q1['y1'] - 28.1\n",
    "q1_centered['y2_centered'] = q1['y2'] - 7.18\n",
    "q1_centered['y3_centered'] = q1['y3'] - 3.089\n",
    "\n",
    "d = q1_centered.values\n",
    "dt = np.transpose(d)\n",
    "\n",
    "cov_matrix = np.dot(dt,d)\n",
    "cov = pd.DataFrame(data=cov_matrix) * 1/9\n",
    "cov"
   ]
  },
  {
   "cell_type": "markdown",
   "metadata": {},
   "source": [
    "###### D. Calculate the sample correlation matrix"
   ]
  },
  {
   "cell_type": "code",
   "execution_count": 6,
   "metadata": {},
   "outputs": [
    {
     "data": {
      "text/html": [
       "<div>\n",
       "<style scoped>\n",
       "    .dataframe tbody tr th:only-of-type {\n",
       "        vertical-align: middle;\n",
       "    }\n",
       "\n",
       "    .dataframe tbody tr th {\n",
       "        vertical-align: top;\n",
       "    }\n",
       "\n",
       "    .dataframe thead th {\n",
       "        text-align: right;\n",
       "    }\n",
       "</style>\n",
       "<table border=\"1\" class=\"dataframe\">\n",
       "  <thead>\n",
       "    <tr style=\"text-align: right;\">\n",
       "      <th></th>\n",
       "      <th>y1</th>\n",
       "      <th>y2</th>\n",
       "      <th>y3</th>\n",
       "    </tr>\n",
       "  </thead>\n",
       "  <tbody>\n",
       "    <tr>\n",
       "      <th>y1</th>\n",
       "      <td>1.000000</td>\n",
       "      <td>0.493015</td>\n",
       "      <td>0.327411</td>\n",
       "    </tr>\n",
       "    <tr>\n",
       "      <th>y2</th>\n",
       "      <td>0.493015</td>\n",
       "      <td>1.000000</td>\n",
       "      <td>0.864762</td>\n",
       "    </tr>\n",
       "    <tr>\n",
       "      <th>y3</th>\n",
       "      <td>0.327411</td>\n",
       "      <td>0.864762</td>\n",
       "      <td>1.000000</td>\n",
       "    </tr>\n",
       "  </tbody>\n",
       "</table>\n",
       "</div>"
      ],
      "text/plain": [
       "          y1        y2        y3\n",
       "y1  1.000000  0.493015  0.327411\n",
       "y2  0.493015  1.000000  0.864762\n",
       "y3  0.327411  0.864762  1.000000"
      ]
     },
     "execution_count": 6,
     "metadata": {},
     "output_type": "execute_result"
    }
   ],
   "source": [
    "q1.corr()"
   ]
  },
  {
   "cell_type": "markdown",
   "metadata": {},
   "source": [
    "## Problem 2"
   ]
  },
  {
   "cell_type": "code",
   "execution_count": 7,
   "metadata": {},
   "outputs": [
    {
     "name": "stderr",
     "output_type": "stream",
     "text": [
      "C:\\Users\\johnny0614\\AppData\\Local\\Continuum\\anaconda3\\lib\\site-packages\\ipykernel_launcher.py:1: ParserWarning: Falling back to the 'python' engine because the 'c' engine does not support regex separators (separators > 1 char and different from '\\s+' are interpreted as regex); you can avoid this warning by specifying engine='python'.\n",
      "  \"\"\"Entry point for launching an IPython kernel.\n",
      "C:\\Users\\johnny0614\\AppData\\Local\\Continuum\\anaconda3\\lib\\site-packages\\ipykernel_launcher.py:2: ParserWarning: Falling back to the 'python' engine because the 'c' engine does not support regex separators (separators > 1 char and different from '\\s+' are interpreted as regex); you can avoid this warning by specifying engine='python'.\n",
      "  \n"
     ]
    }
   ],
   "source": [
    "data1a = pd.read_csv(\"C:/Users/johnny0614/OneDrive - unist.ac.kr/UNIST/19년 2학기/multivariate/hw1_data/hw1_data1a.txt\", sep=\"  \", header=None, names=[\"y1\", \"y2\"])\n",
    "data1b = pd.read_csv(\"C:/Users/johnny0614/OneDrive - unist.ac.kr/UNIST/19년 2학기/multivariate/hw1_data/hw1_data1b.txt\", sep=\"  \", header=None, names=[\"y1\", \"y2\"])"
   ]
  },
  {
   "cell_type": "code",
   "execution_count": 8,
   "metadata": {},
   "outputs": [],
   "source": [
    "#print(data1a.shape)\n",
    "#data1b.shape"
   ]
  },
  {
   "cell_type": "code",
   "execution_count": 9,
   "metadata": {},
   "outputs": [],
   "source": [
    "#data1a.head()"
   ]
  },
  {
   "cell_type": "code",
   "execution_count": 10,
   "metadata": {},
   "outputs": [],
   "source": [
    "#data1b.head()"
   ]
  },
  {
   "cell_type": "markdown",
   "metadata": {},
   "source": [
    "###### A. Draw a 2D plot of the data samples in the dataset of “hw1_data1a” (in blue). Then, on top of that, draw another 2D plot of the data samples in “hw1_data1b” (in red). (So, there should be a total of 2,000 points with two different colors in your 2D graph). Describe how differently the two datasets are distributed."
   ]
  },
  {
   "cell_type": "code",
   "execution_count": 11,
   "metadata": {},
   "outputs": [
    {
     "data": {
      "image/png": "[encoded data removed]",
      "text/plain": [
       "<Figure size 432x288 with 1 Axes>"
      ]
     },
     "metadata": {
      "needs_background": "light"
     },
     "output_type": "display_data"
    }
   ],
   "source": [
    "plt.scatter(data1a['y1'], data1a['y2'], c='blue', s=1)\n",
    "plt.scatter(data1b['y1'], data1b['y2'], c='red', s=1)\n",
    "plt.show()\n",
    "\n",
    "# As we can see the below graph, data in blue graph are much largely distribued. So, scatterness looks so greater than red one.\n",
    "# In contrast, data in red graph are not much largely distributed than blue one, it is distributed almost linearly. \n",
    "# So, It is more centered than blue one.\n",
    "# It this, the scatterness of red one is smaller than blue one. "
   ]
  },
  {
   "cell_type": "markdown",
   "metadata": {},
   "source": [
    "###### B. Compare the overall variability between the two datasets using the trace of sample covariance matrix."
   ]
  },
  {
   "cell_type": "code",
   "execution_count": 12,
   "metadata": {},
   "outputs": [
    {
     "name": "stdout",
     "output_type": "stream",
     "text": [
      "Tr(data1a):  19.85781581366452\n",
      "Tr(data1b):  18.975145055357075\n"
     ]
    }
   ],
   "source": [
    "data1a_cov = data1a.cov()\n",
    "data1b_cov = data1b.cov()\n",
    "print(\"Tr(data1a): \",np.trace(data1a_cov))\n",
    "print(\"Tr(data1b): \",np.trace(data1b_cov))"
   ]
  },
  {
   "cell_type": "markdown",
   "metadata": {},
   "source": [
    "###### C. Compare the overall variability between the two datasets using the determinant of sample covariance matrix."
   ]
  },
  {
   "cell_type": "code",
   "execution_count": 13,
   "metadata": {},
   "outputs": [
    {
     "name": "stdout",
     "output_type": "stream",
     "text": [
      "det(data1a):  98.58157293789854\n",
      "det(data1b):  17.065648368511397\n"
     ]
    }
   ],
   "source": [
    "print(\"det(data1a): \", np.linalg.det(data1a_cov))\n",
    "print(\"det(data1b): \", np.linalg.det(data1b_cov))"
   ]
  },
  {
   "cell_type": "markdown",
   "metadata": {},
   "source": [
    "###### D. Discuss what the results in B and C indicate."
   ]
  },
  {
   "cell_type": "code",
   "execution_count": 14,
   "metadata": {},
   "outputs": [],
   "source": [
    "# In sample COV matrix, value of trace is S11 + S22 + .... + Spp. So, It is called total sample variance. \n",
    "# In terms of variance, it considered just distance of the data from the mean. \n",
    "# So, In that reason, the results of two traces are not that much different in terms of total sample variance. \n",
    "# However, In terms of determinant of sample cov matrix, it considered Covaring properties of data.\n",
    "# As we see the above grpah, red one is more centered and linearly distributed. \n",
    "# in thast sense, determinant of sample cov matrix of red one is smaller than blue one. "
   ]
  },
  {
   "cell_type": "markdown",
   "metadata": {},
   "source": [
    "###### E. In the new figure, draw again a 2D plot of the data samples in “hw1_data1b” (in black). Then, on top of that, draw the following vectors as points. "
   ]
  },
  {
   "cell_type": "code",
   "execution_count": 15,
   "metadata": {},
   "outputs": [
    {
     "data": {
      "image/png": "[encoded data removed]",
      "text/plain": [
       "<Figure size 432x288 with 1 Axes>"
      ]
     },
     "metadata": {
      "needs_background": "light"
     },
     "output_type": "display_data"
    }
   ],
   "source": [
    "# y1 = [6, 6]T (draw in red)\n",
    "# y2 = [-6, -6]T (draw in red)\n",
    "# x3 = [2, -2]T (draw in green)\n",
    "# x4 = [-2, 2]T (draw in green)\n",
    "\n",
    "ar = plt.axes()\n",
    "y1 = ar.arrow(0, 0, 6, 6, head_width=0.4, head_length=0.3, lw=1.7, color='red')\n",
    "y2 = ar.arrow(0, 0, -6, -6, head_width=0.4, head_length=0.3, lw=1.7, color='red')\n",
    "x3 = ar.arrow(0, 0, 2, -2, head_width=0.4, head_length=0.3, lw=1.7, color='green')\n",
    "x4 = ar.arrow(0, 0, -2, 2, head_width=0.4, head_length=0.3, lw=1.7, color='green')\n",
    "\n",
    "plt.scatter(data1b['y1'], data1b['y2'], c='black', s=1)\n",
    "\n",
    "plt.show()"
   ]
  },
  {
   "cell_type": "markdown",
   "metadata": {},
   "source": [
    "###### F. Calculate the Euclidean distance between (y1 and y2), and between (x1 and x2) and compare them."
   ]
  },
  {
   "cell_type": "code",
   "execution_count": 16,
   "metadata": {},
   "outputs": [
    {
     "name": "stdout",
     "output_type": "stream",
     "text": [
      "Euclidean distance between y1 and y2 :  16.97056274847714\n",
      "Euclidean distance between x3 and x4 :  5.656854249492381\n"
     ]
    }
   ],
   "source": [
    "from scipy.spatial import distance\n",
    "y1 = (6,6)\n",
    "y2 = (-6,-6)\n",
    "dst_y1y2 = distance.euclidean(y1, y2)\n",
    "\n",
    "x3 = (2,-2)\n",
    "x4 = (-2,2)\n",
    "dst_x3x4 = distance.euclidean(x3,x4)\n",
    "\n",
    "print(\"Euclidean distance between y1 and y2 : \", dst_y1y2)\n",
    "print(\"Euclidean distance between x3 and x4 : \", dst_x3x4)"
   ]
  },
  {
   "cell_type": "markdown",
   "metadata": {},
   "source": [
    "###### G. Calculate the Mahalanobis distance between (y1 and y2), and between (x1 and x2) and compare them."
   ]
  },
  {
   "cell_type": "code",
   "execution_count": 17,
   "metadata": {},
   "outputs": [
    {
     "name": "stdout",
     "output_type": "stream",
     "text": [
      "Mahalanobis distance between y1 and y2:  3.998\n",
      "Mahalanobis distance between x3 and x4:  5.814\n"
     ]
    }
   ],
   "source": [
    "import scipy.spatial.distance \n",
    "y1 = np.array([6,6])\n",
    "y2 = np.array([-6,-6])\n",
    "\n",
    "VI = lin.inv(data1b_cov)\n",
    "Mahal_y1_y2 = scipy.spatial.distance.mahalanobis(y1, y2, VI)\n",
    "\n",
    "x3 = np.array([2,-2])\n",
    "x4 = np.array([-2,2])\n",
    "\n",
    "cov_x34 = np.array([[0,1],[1,0]])\n",
    "IV = lin.inv(data1b_cov)\n",
    "\n",
    "Mahal_x3_x4 = scipy.spatial.distance.mahalanobis(x3, x4,IV)\n",
    "\n",
    "print(\"Mahalanobis distance between y1 and y2: \", \"%0.3f\" % Mahal_y1_y2)\n",
    "print(\"Mahalanobis distance between x3 and x4: \", \"%0.3f\" % Mahal_x3_x4)"
   ]
  },
  {
   "cell_type": "markdown",
   "metadata": {},
   "source": [
    "###### H. Discuss how come these two distance results are different."
   ]
  },
  {
   "cell_type": "code",
   "execution_count": 18,
   "metadata": {},
   "outputs": [],
   "source": [
    "# Euclidean distance is distance between two points. In this, it is like physical distance. \n",
    "# In this, as we can see the aboce graph, the red one has larger distance than green one.\n",
    "# So the results Euclidean distance of red one is greater than green one, as red one 16.97 > green one 5.65 \n",
    "# Pysical difference between two distances is 11.32\n",
    "# However, In terms of Mahalanobis distance, the results of the distances is totally different with previous case. \n",
    "# In this case, red one is smaller than green one, as red 3.998 < green 5.814\n",
    "# Because, Mahalanobis distance considers covring properties of the data sample. \n",
    "# In that sense, the distance could be different based on correlations of the data in Mahalnobis distance with the Euclidean distance"
   ]
  },
  {
   "cell_type": "markdown",
   "metadata": {},
   "source": [
    "## Problem 3"
   ]
  },
  {
   "cell_type": "code",
   "execution_count": 19,
   "metadata": {
    "scrolled": true
   },
   "outputs": [
    {
     "name": "stderr",
     "output_type": "stream",
     "text": [
      "C:\\Users\\johnny0614\\AppData\\Local\\Continuum\\anaconda3\\lib\\site-packages\\ipykernel_launcher.py:1: ParserWarning: Falling back to the 'python' engine because the 'c' engine does not support regex separators (separators > 1 char and different from '\\s+' are interpreted as regex); you can avoid this warning by specifying engine='python'.\n",
      "  \"\"\"Entry point for launching an IPython kernel.\n"
     ]
    }
   ],
   "source": [
    "data2 = pd.read_csv(\"C:/Users/johnny0614/OneDrive - unist.ac.kr/UNIST/19년 2학기/multivariate/hw1_data/hw1_data2.txt\", sep=\"  \", header=None, names=[\"y1\", \"y2\", \"y3\"])"
   ]
  },
  {
   "cell_type": "code",
   "execution_count": 20,
   "metadata": {},
   "outputs": [],
   "source": [
    "#data2.shape"
   ]
  },
  {
   "cell_type": "code",
   "execution_count": 21,
   "metadata": {},
   "outputs": [],
   "source": [
    "# data2"
   ]
  },
  {
   "cell_type": "markdown",
   "metadata": {},
   "source": [
    "###### A. Draw a 2D scatter plot for each pair of variables in the vector. Find whether individual variables are correlated with each other."
   ]
  },
  {
   "cell_type": "code",
   "execution_count": 22,
   "metadata": {},
   "outputs": [
    {
     "data": {
      "image/png": "[encoded data removed]",
      "text/plain": [
       "<Figure size 432x288 with 3 Axes>"
      ]
     },
     "metadata": {
      "needs_background": "light"
     },
     "output_type": "display_data"
    }
   ],
   "source": [
    "plt.subplot(2,3,1) \n",
    "plt.scatter(data2['y1'], data2['y2'], c='red', s=1)\n",
    "\n",
    "plt.subplot(2,3,2) \n",
    "plt.scatter(data2['y1'], data2['y3'], c='blue', s=1)\n",
    "\n",
    "plt.subplot(2,3,3) \n",
    "plt.scatter(data2['y2'], data2['y3'], c='green', s=1)\n",
    "\n",
    "plt.tight_layout()\n",
    "\n",
    "plt.show()\n",
    "\n",
    "# as we can see the below figures, Y1, Y2 and Y3 are correlative each other "
   ]
  },
  {
   "cell_type": "markdown",
   "metadata": {},
   "source": [
    "###### B. Now, partition the current 3D vector into two parts, [y x]T, such that y is a partitioned 2D vector and x is a partitioned 1D variable. For each value of x, calculate the mean vector of the conditional distribution of y given x, f(y|x). Plot the resulting conditional mean vectors as points in a 2D graph and describe what you observe."
   ]
  },
  {
   "cell_type": "code",
   "execution_count": 59,
   "metadata": {},
   "outputs": [],
   "source": [
    "y1x = data2[['y1', 'y3']]\n",
    "y2x = data2[['y2','y3']]\n",
    "\n",
    "mean_y1 = float(\"%0.3f\" % data2['y1'].mean())\n",
    "mean_x = float(\"%0.3f\" % data2['y3'].mean())\n",
    "mean_y2 = float(\"%0.3f\" % data2['y2'].mean()) \n",
    "\n",
    "cov_y1x = y1x.cov\n",
    "cov_y2x = y2x.cov"
   ]
  },
  {
   "cell_type": "markdown",
   "metadata": {},
   "source": [
    "## Problem 4"
   ]
  },
  {
   "cell_type": "code",
   "execution_count": 24,
   "metadata": {},
   "outputs": [],
   "source": [
    "data3a = pd.read_csv(\"C:/Users/johnny0614/OneDrive - unist.ac.kr/UNIST/19년 2학기/multivariate/hw1_data/hw1_data3a.txt\", header=None, names=[\"y1\"])\n",
    "data3b = pd.read_csv(\"C:/Users/johnny0614/OneDrive - unist.ac.kr/UNIST/19년 2학기/multivariate/hw1_data/hw1_data3b.txt\", header=None, names=[\"y2\"])\n",
    "data3c = pd.read_csv(\"C:/Users/johnny0614/OneDrive - unist.ac.kr/UNIST/19년 2학기/multivariate/hw1_data/hw1_data3c.txt\", header=None, names=[\"y3\"])"
   ]
  },
  {
   "cell_type": "code",
   "execution_count": 25,
   "metadata": {},
   "outputs": [],
   "source": [
    "#print(data3a.shape)\n",
    "#print(data3b.shape)\n",
    "#print(data3c.shape)"
   ]
  },
  {
   "cell_type": "code",
   "execution_count": 26,
   "metadata": {},
   "outputs": [],
   "source": [
    "aaa = data3a['y1']\n",
    "bbb = data3b['y2']\n",
    "ccc = data3c['y3']"
   ]
  },
  {
   "cell_type": "markdown",
   "metadata": {},
   "source": [
    "##### Download the file, hw1_data3a.txt, hw1_data3b.txt, and hw1_data3c.txt from the class website. Draw the Q-Q plot for each dataset. Compare the results and discuss the variance of each data relative to the normal distribution."
   ]
  },
  {
   "cell_type": "code",
   "execution_count": 27,
   "metadata": {},
   "outputs": [
    {
     "data": {
      "text/plain": [
       "(-3.5173484449224093, 3.5173484449224093, -4.88502684, 6.100434239999999)"
      ]
     },
     "execution_count": 27,
     "metadata": {},
     "output_type": "execute_result"
    },
    {
     "data": {
      "image/png": "[encoded data removed]",
      "text/plain": [
       "<Figure size 864x432 with 6 Axes>"
      ]
     },
     "metadata": {
      "needs_background": "light"
     },
     "output_type": "display_data"
    }
   ],
   "source": [
    "f, axes = plt.subplots(2, 3, figsize=(12, 6))\n",
    "\n",
    "sns.distplot(aaa, hist=False, ax=axes[0][0])\n",
    "probplot(aaa, plot=axes[1][0]) #scipy.stats.probplot\n",
    "\n",
    "sns.distplot(bbb, hist=False, ax=axes[0][1])\n",
    "probplot(bbb, plot=axes[1][1]) #scipy.stats.probplot\n",
    "\n",
    "sns.distplot(ccc, hist=False, ax=axes[0][2])\n",
    "probplot(ccc, plot=axes[1][2]) #scipy.stats.probplot\n",
    "\n",
    "plt.tight_layout()\n",
    "\n",
    "plt.axis(\"equal\")"
   ]
  },
  {
   "cell_type": "code",
   "execution_count": 28,
   "metadata": {},
   "outputs": [
    {
     "name": "stdout",
     "output_type": "stream",
     "text": [
      "variance of data3a:  0.07993845393236815\n",
      "variance of data3b:  1.0514715877923277\n",
      "variance of data3c:  0.9199347275545503\n"
     ]
    }
   ],
   "source": [
    "var_data3a = data3a['y1'].var()\n",
    "var_data3b = data3b['y2'].var()\n",
    "var_data3c = data3c['y3'].var()\n",
    "\n",
    "print(\"variance of data3a: \",var_data3a)\n",
    "print(\"variance of data3b: \",var_data3b)\n",
    "print(\"variance of data3c: \",var_data3c)"
   ]
  },
  {
   "cell_type": "code",
   "execution_count": 30,
   "metadata": {},
   "outputs": [],
   "source": [
    "# In case of data3a, as we can see the plot, left tail is above the normal dist(straight line) and right tail is the below normal dist\n",
    "# In this, it means that the distributed values of the data3a has small range. \n",
    "# So, we can say that data3a is more centered than normal dist. In that, the variance is smaller than normal, 0.07 < 1 \n",
    "# And, the sample dist is higher than noraml in left tail, But, It become smaller than normal in right tail. \n",
    "# that is, sample dist is more increased in left side first but, in right side, noraml is more increased first.  \n",
    "\n",
    "# In case of data3b, as we can see the plot, it is almost close to the straight line. \n",
    "# It means that the distribution is very similar with the normal dist. in that, the variance is almost similar with normal, 1.05 ≒ 1 \n",
    "\n",
    "# In case of data3c, as we can see the plot, it has longer tail in both side tha normal.\n",
    "# So, it has more broad range of distributed values of the data than the normal. \n",
    "# And, it is lower than normal in left side But, it is higher than normal in right side.\n",
    "# So, In left side, normal is increased first but, in right side, sample dist is increased first\n",
    "# Most part is close to the straight side but, in both tail side is outrange the normal. \n",
    "# So, the variance is 0.91 is slightly smaller than normal, 1  "
   ]
  },
  {
   "cell_type": "code",
   "execution_count": null,
   "metadata": {},
   "outputs": [],
   "source": []
  }
 ],
 "metadata": {
  "kernelspec": {
   "display_name": "Python 3",
   "language": "python",
   "name": "python3"
  },
  "language_info": {
   "codemirror_mode": {
    "name": "ipython",
    "version": 3
   },
   "file_extension": ".py",
   "mimetype": "text/x-python",
   "name": "python",
   "nbconvert_exporter": "python",
   "pygments_lexer": "ipython3",
   "version": "3.7.3"
  }
 },
 "nbformat": 4,
 "nbformat_minor": 2
}
